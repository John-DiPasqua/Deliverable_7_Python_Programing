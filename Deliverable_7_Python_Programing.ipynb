{
  "nbformat": 4,
  "nbformat_minor": 0,
  "metadata": {
    "colab": {
      "provenance": []
    },
    "kernelspec": {
      "name": "python3",
      "display_name": "Python 3"
    },
    "language_info": {
      "name": "python"
    }
  },
  "cells": [
    {
      "cell_type": "code",
      "source": [
        "import numpy as np"
      ],
      "metadata": {
        "id": "3i7ieEg9H5RK"
      },
      "execution_count": 2,
      "outputs": []
    },
    {
      "cell_type": "code",
      "source": [
        "def method_1(userInput):\n",
        "   return list(np.random.randint(low = 10,high = 50,size = userInput))"
      ],
      "metadata": {
        "id": "8L-6YHMkH6KN"
      },
      "execution_count": 3,
      "outputs": []
    },
    {
      "cell_type": "code",
      "source": [
        "def method_2(x):\n",
        "  return np.sum(x)"
      ],
      "metadata": {
        "id": "SGexl2FXJLyD"
      },
      "execution_count": 12,
      "outputs": []
    },
    {
      "cell_type": "code",
      "execution_count": 13,
      "metadata": {
        "colab": {
          "base_uri": "https://localhost:8080/"
        },
        "id": "T0_TbsbuHBXM",
        "outputId": "c2a25e22-75a5-40d2-c7e8-8f00d92c8810"
      },
      "outputs": [
        {
          "output_type": "stream",
          "name": "stdout",
          "text": [
            "Enter an integer between 5 and 15, inclusive: 15\n",
            "The elements of the array are: [16, 42, 29, 32, 39, 31, 40, 15, 39, 27, 19, 35, 29, 38, 36]\n",
            "The sum of the array is: 467\n"
          ]
        }
      ],
      "source": [
        "userInput = ''\n",
        "\n",
        "while True: \n",
        "  userInput = int(input(\"Enter an integer between 5 and 15, inclusive: \"))\n",
        "\n",
        "  if userInput < 5 or userInput > 15:\n",
        "    print(\"Number outside range\")\n",
        "    continue\n",
        "  else: \n",
        "    array = method_1(userInput)\n",
        "    array_sum = method_2(array)\n",
        "    \n",
        "    print(f\"The elements of the array are: {array}\")\n",
        "    print(f\"The sum of the array is: {array_sum}\")\n",
        "    break"
      ]
    }
  ]
}